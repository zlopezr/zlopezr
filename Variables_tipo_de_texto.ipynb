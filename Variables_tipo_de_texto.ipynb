{
  "nbformat": 4,
  "nbformat_minor": 0,
  "metadata": {
    "colab": {
      "name": "Variables tipo de texto.ipynb",
      "provenance": [],
      "collapsed_sections": [],
      "authorship_tag": "ABX9TyPksDsVGIAm3ivLA0Seq7My",
      "include_colab_link": true
    },
    "kernelspec": {
      "name": "python3",
      "display_name": "Python 3"
    },
    "language_info": {
      "name": "python"
    }
  },
  "cells": [
    {
      "cell_type": "markdown",
      "metadata": {
        "id": "view-in-github",
        "colab_type": "text"
      },
      "source": [
        "<a href=\"https://colab.research.google.com/github/zlopezr/zlopezr/blob/main/Variables_tipo_de_texto.ipynb\" target=\"_parent\"><img src=\"https://colab.research.google.com/assets/colab-badge.svg\" alt=\"Open In Colab\"/></a>"
      ]
    },
    {
      "cell_type": "code",
      "metadata": {
        "id": "j5t-oB7TzFTJ"
      },
      "source": [
        "#Pandas cuenta con una gran funcionalidad a la hora de interactuar con texto, es super versatil si estas interesado en crear modelos de análisis de lenguaje natural.\n",
        "#Comencemos cargando nuestra librería y creando un diccionario con nombres de personas.\n",
        "\n",
        "import pandas as pd\n",
        "data = {'names':['Sara Moreno 34',\n",
        "                 'jUAn GOMez 23',\n",
        "                 'CArlos mArtinez 89',\n",
        "                 'Alfredo VelaZques 3',\n",
        "                 'luis Mora 56',\n",
        "                 '@freddier #platzi 10',pd.NA]}\n"
      ],
      "execution_count": null,
      "outputs": []
    },
    {
      "cell_type": "code",
      "metadata": {
        "colab": {
          "base_uri": "https://localhost:8080/"
        },
        "id": "sH1rRYnc0IJg",
        "outputId": "5479115b-fa87-41a1-ffb0-48bf528a0448"
      },
      "source": [
        "data"
      ],
      "execution_count": null,
      "outputs": [
        {
          "output_type": "execute_result",
          "data": {
            "text/plain": [
              "{'names': ['Sara Moreno 34',\n",
              "  'jUAn GOMez 23',\n",
              "  'CArlos mArtinez 89',\n",
              "  'Alfredo VelaZques 3',\n",
              "  'luis Mora 56',\n",
              "  '@freddier #platzi 10',\n",
              "  <NA>]}"
            ]
          },
          "metadata": {
            "tags": []
          },
          "execution_count": 4
        }
      ]
    },
    {
      "cell_type": "code",
      "metadata": {
        "colab": {
          "base_uri": "https://localhost:8080/",
          "height": 266
        },
        "id": "XnYD-SPM020z",
        "outputId": "e0bc6b5c-bc66-41a0-e6d9-388de4927e7a"
      },
      "source": [
        "#Usemos los datos del diccionario para crear nuestro DataFrame. Nuestro DataFrame contiene una columna tipo texto,\n",
        "#con variedades de caracteres especiales, números, mayúsculas e inclusive variables nulas.\n",
        "\n",
        "df= pd.DataFrame(data)\n",
        "df"
      ],
      "execution_count": null,
      "outputs": [
        {
          "output_type": "execute_result",
          "data": {
            "text/html": [
              "<div>\n",
              "<style scoped>\n",
              "    .dataframe tbody tr th:only-of-type {\n",
              "        vertical-align: middle;\n",
              "    }\n",
              "\n",
              "    .dataframe tbody tr th {\n",
              "        vertical-align: top;\n",
              "    }\n",
              "\n",
              "    .dataframe thead th {\n",
              "        text-align: right;\n",
              "    }\n",
              "</style>\n",
              "<table border=\"1\" class=\"dataframe\">\n",
              "  <thead>\n",
              "    <tr style=\"text-align: right;\">\n",
              "      <th></th>\n",
              "      <th>names</th>\n",
              "    </tr>\n",
              "  </thead>\n",
              "  <tbody>\n",
              "    <tr>\n",
              "      <th>0</th>\n",
              "      <td>Sara Moreno 34</td>\n",
              "    </tr>\n",
              "    <tr>\n",
              "      <th>1</th>\n",
              "      <td>jUAn GOMez 23</td>\n",
              "    </tr>\n",
              "    <tr>\n",
              "      <th>2</th>\n",
              "      <td>CArlos mArtinez 89</td>\n",
              "    </tr>\n",
              "    <tr>\n",
              "      <th>3</th>\n",
              "      <td>Alfredo VelaZques 3</td>\n",
              "    </tr>\n",
              "    <tr>\n",
              "      <th>4</th>\n",
              "      <td>luis Mora 56</td>\n",
              "    </tr>\n",
              "    <tr>\n",
              "      <th>5</th>\n",
              "      <td>@freddier #platzi 10</td>\n",
              "    </tr>\n",
              "    <tr>\n",
              "      <th>6</th>\n",
              "      <td>&lt;NA&gt;</td>\n",
              "    </tr>\n",
              "  </tbody>\n",
              "</table>\n",
              "</div>"
            ],
            "text/plain": [
              "                  names\n",
              "0        Sara Moreno 34\n",
              "1         jUAn GOMez 23\n",
              "2    CArlos mArtinez 89\n",
              "3   Alfredo VelaZques 3\n",
              "4          luis Mora 56\n",
              "5  @freddier #platzi 10\n",
              "6                  <NA>"
            ]
          },
          "metadata": {
            "tags": []
          },
          "execution_count": 5
        }
      ]
    },
    {
      "cell_type": "code",
      "metadata": {
        "colab": {
          "base_uri": "https://localhost:8080/"
        },
        "id": "uZvLgXRN1NUL",
        "outputId": "f6ffc2bf-2151-4618-ac76-e81f945f4c09"
      },
      "source": [
        "#Para usar las funciones asociadas a texto usamos str en nuestro DataFrame, por ejemplo, si se quiere colocar el texto en minúscula, basta con escribir:\n",
        "df['names'].str.lower()"
      ],
      "execution_count": null,
      "outputs": [
        {
          "output_type": "execute_result",
          "data": {
            "text/plain": [
              "0          sara moreno 34\n",
              "1           juan gomez 23\n",
              "2      carlos martinez 89\n",
              "3     alfredo velazques 3\n",
              "4            luis mora 56\n",
              "5    @freddier #platzi 10\n",
              "6                    <NA>\n",
              "Name: names, dtype: object"
            ]
          },
          "metadata": {
            "tags": []
          },
          "execution_count": 8
        }
      ]
    },
    {
      "cell_type": "code",
      "metadata": {
        "colab": {
          "base_uri": "https://localhost:8080/"
        },
        "id": "CT-QOiWL1jo7",
        "outputId": "f31a9401-3219-48f7-f048-addc49eb6e7a"
      },
      "source": [
        "#Para mayúsculas igualmente:\n",
        "df['names'].str.upper()"
      ],
      "execution_count": null,
      "outputs": [
        {
          "output_type": "execute_result",
          "data": {
            "text/plain": [
              "0          SARA MORENO 34\n",
              "1           JUAN GOMEZ 23\n",
              "2      CARLOS MARTINEZ 89\n",
              "3     ALFREDO VELAZQUES 3\n",
              "4            LUIS MORA 56\n",
              "5    @FREDDIER #PLATZI 10\n",
              "6                    <NA>\n",
              "Name: names, dtype: object"
            ]
          },
          "metadata": {
            "tags": []
          },
          "execution_count": 9
        }
      ]
    },
    {
      "cell_type": "code",
      "metadata": {
        "colab": {
          "base_uri": "https://localhost:8080/"
        },
        "id": "EKRWnfCx1-CX",
        "outputId": "96d675b3-22fb-4dce-aeaf-296060578625"
      },
      "source": [
        "#O si queremos solo la primera letra en mayúscula:\n",
        "df['names'].str.capitalize()"
      ],
      "execution_count": null,
      "outputs": [
        {
          "output_type": "execute_result",
          "data": {
            "text/plain": [
              "0          Sara moreno 34\n",
              "1           Juan gomez 23\n",
              "2      Carlos martinez 89\n",
              "3     Alfredo velazques 3\n",
              "4            Luis mora 56\n",
              "5    @freddier #platzi 10\n",
              "6                    <NA>\n",
              "Name: names, dtype: object"
            ]
          },
          "metadata": {
            "tags": []
          },
          "execution_count": 10
        }
      ]
    },
    {
      "cell_type": "code",
      "metadata": {
        "colab": {
          "base_uri": "https://localhost:8080/"
        },
        "id": "bucig2Ly2Oz_",
        "outputId": "1103414e-bf46-4c07-d214-eeefbc4739af"
      },
      "source": [
        "#Para contar la longitud de nuestro texto usamos:\n",
        "df['names'].str.len()\n"
      ],
      "execution_count": null,
      "outputs": [
        {
          "output_type": "execute_result",
          "data": {
            "text/plain": [
              "0      14\n",
              "1      13\n",
              "2      18\n",
              "3      19\n",
              "4      12\n",
              "5      20\n",
              "6    <NA>\n",
              "Name: names, dtype: object"
            ]
          },
          "metadata": {
            "tags": []
          },
          "execution_count": 11
        }
      ]
    },
    {
      "cell_type": "code",
      "metadata": {
        "colab": {
          "base_uri": "https://localhost:8080/"
        },
        "id": "ur8t0QTL2lPn",
        "outputId": "52855a9f-6870-4212-99f8-1d796d03a8a8"
      },
      "source": [
        "#Para dividir el texto por espacios usamos split y definimos el carácter por\n",
        "#el que queremos dividir, en este caso, un espacio vacío ' ' o '#':\n",
        "\n",
        "df['names'].str.split(' ')"
      ],
      "execution_count": null,
      "outputs": [
        {
          "output_type": "execute_result",
          "data": {
            "text/plain": [
              "0          [Sara, Moreno, 34]\n",
              "1           [jUAn, GOMez, 23]\n",
              "2      [CArlos, mArtinez, 89]\n",
              "3     [Alfredo, VelaZques, 3]\n",
              "4            [luis, Mora, 56]\n",
              "5    [@freddier, #platzi, 10]\n",
              "6                        <NA>\n",
              "Name: names, dtype: object"
            ]
          },
          "metadata": {
            "tags": []
          },
          "execution_count": 12
        }
      ]
    },
    {
      "cell_type": "code",
      "metadata": {
        "colab": {
          "base_uri": "https://localhost:8080/"
        },
        "id": "rj_qkf-h3KzR",
        "outputId": "74bf932a-e424-4af3-e630-4211208909fc"
      },
      "source": [
        "df['names'].str.split('#')"
      ],
      "execution_count": null,
      "outputs": [
        {
          "output_type": "execute_result",
          "data": {
            "text/plain": [
              "0           [Sara Moreno 34]\n",
              "1            [jUAn GOMez 23]\n",
              "2       [CArlos mArtinez 89]\n",
              "3      [Alfredo VelaZques 3]\n",
              "4             [luis Mora 56]\n",
              "5    [@freddier , platzi 10]\n",
              "6                       <NA>\n",
              "Name: names, dtype: object"
            ]
          },
          "metadata": {
            "tags": []
          },
          "execution_count": 14
        }
      ]
    },
    {
      "cell_type": "code",
      "metadata": {
        "colab": {
          "base_uri": "https://localhost:8080/"
        },
        "id": "mCxT0L7Z3V4N",
        "outputId": "6960e7f9-02d5-4e68-d0d9-e3a374cc6209"
      },
      "source": [
        "#Para seleccionar los primeros o últimos 5 caracteres usamos:\n",
        "df['names'].str[:5]"
      ],
      "execution_count": null,
      "outputs": [
        {
          "output_type": "execute_result",
          "data": {
            "text/plain": [
              "0    Sara \n",
              "1    jUAn \n",
              "2    CArlo\n",
              "3    Alfre\n",
              "4    luis \n",
              "5    @fred\n",
              "6     <NA>\n",
              "Name: names, dtype: object"
            ]
          },
          "metadata": {
            "tags": []
          },
          "execution_count": 15
        }
      ]
    },
    {
      "cell_type": "code",
      "metadata": {
        "colab": {
          "base_uri": "https://localhost:8080/"
        },
        "id": "jxFh2E0p3rZF",
        "outputId": "5e47e42e-4f00-4fe4-87ca-002aa67c8cc6"
      },
      "source": [
        "df['names'].str[-5:]"
      ],
      "execution_count": null,
      "outputs": [
        {
          "output_type": "execute_result",
          "data": {
            "text/plain": [
              "0    no 34\n",
              "1    ez 23\n",
              "2    ez 89\n",
              "3    ues 3\n",
              "4    ra 56\n",
              "5    zi 10\n",
              "6     <NA>\n",
              "Name: names, dtype: object"
            ]
          },
          "metadata": {
            "tags": []
          },
          "execution_count": 17
        }
      ]
    },
    {
      "cell_type": "code",
      "metadata": {
        "colab": {
          "base_uri": "https://localhost:8080/"
        },
        "id": "i3HuE0k43zn-",
        "outputId": "8e3b367c-4346-4993-b613-5a2dbc0b16e4"
      },
      "source": [
        "#Podemos reemplazar una secuencia de caracteres por otra mediante:\n",
        "df['names'].str.replace('Alfredo','Antonio')"
      ],
      "execution_count": null,
      "outputs": [
        {
          "output_type": "execute_result",
          "data": {
            "text/plain": [
              "0          Sara Moreno 34\n",
              "1           jUAn GOMez 23\n",
              "2      CArlos mArtinez 89\n",
              "3     Antonio VelaZques 3\n",
              "4            luis Mora 56\n",
              "5    @freddier #platzi 10\n",
              "6                    <NA>\n",
              "Name: names, dtype: object"
            ]
          },
          "metadata": {
            "tags": []
          },
          "execution_count": 18
        }
      ]
    },
    {
      "cell_type": "code",
      "metadata": {
        "colab": {
          "base_uri": "https://localhost:8080/"
        },
        "id": "vtOQnk474an2",
        "outputId": "b0972947-6b20-46f3-ccce-73ef798dcb0d"
      },
      "source": [
        "#También podemos buscar una secuencia de texto en específico, en este caso,\n",
        "#'ara':\n",
        "df['names'].str.findall('ara')"
      ],
      "execution_count": null,
      "outputs": [
        {
          "output_type": "execute_result",
          "data": {
            "text/plain": [
              "0    [ara]\n",
              "1       []\n",
              "2       []\n",
              "3       []\n",
              "4       []\n",
              "5       []\n",
              "6     <NA>\n",
              "Name: names, dtype: object"
            ]
          },
          "metadata": {
            "tags": []
          },
          "execution_count": 19
        }
      ]
    },
    {
      "cell_type": "code",
      "metadata": {
        "colab": {
          "base_uri": "https://localhost:8080/"
        },
        "id": "9ljj-fEO4sK-",
        "outputId": "c8758787-e765-42fe-e65a-66f93735f0fe"
      },
      "source": [
        "#También podemos crear un filtro basándonos en una secuencia de texto en\n",
        "#específico, en este caso, las filas que tengan 'or':\n",
        "df['names'].str.contains('or')"
      ],
      "execution_count": null,
      "outputs": [
        {
          "output_type": "execute_result",
          "data": {
            "text/plain": [
              "0     True\n",
              "1    False\n",
              "2    False\n",
              "3    False\n",
              "4     True\n",
              "5    False\n",
              "6     <NA>\n",
              "Name: names, dtype: object"
            ]
          },
          "metadata": {
            "tags": []
          },
          "execution_count": 20
        }
      ]
    },
    {
      "cell_type": "code",
      "metadata": {
        "colab": {
          "base_uri": "https://localhost:8080/"
        },
        "id": "6ZwsW8wT5HSE",
        "outputId": "5251ea93-d65c-4efa-de8e-f16bf996b6c9"
      },
      "source": [
        "#Así mismo, podemos contar el número de ocurrencias de un caracter en específico,\n",
        "#por ejemplo, cuántas veces aparece la letra 'a':\n",
        "df['names'].str.capitalize().str.count('Carlos')"
      ],
      "execution_count": null,
      "outputs": [
        {
          "output_type": "execute_result",
          "data": {
            "text/plain": [
              "0       0\n",
              "1       0\n",
              "2       1\n",
              "3       0\n",
              "4       0\n",
              "5       0\n",
              "6    <NA>\n",
              "Name: names, dtype: object"
            ]
          },
          "metadata": {
            "tags": []
          },
          "execution_count": 24
        }
      ]
    },
    {
      "cell_type": "code",
      "metadata": {
        "colab": {
          "base_uri": "https://localhost:8080/"
        },
        "id": "GpQuTV1g5g3_",
        "outputId": "83e2d733-6ce2-4c15-92df-24d1409f4624"
      },
      "source": [
        "#Existen comandos más avanzados usando Regex, por ejemplo, si quiero extraer los\n",
        "#caracteres numéricos:\n",
        "df['names'].str.extract('([0-9]+)', expand=False)"
      ],
      "execution_count": null,
      "outputs": [
        {
          "output_type": "execute_result",
          "data": {
            "text/plain": [
              "0     34\n",
              "1     23\n",
              "2     89\n",
              "3      3\n",
              "4     56\n",
              "5     10\n",
              "6    NaN\n",
              "Name: names, dtype: object"
            ]
          },
          "metadata": {
            "tags": []
          },
          "execution_count": 26
        }
      ]
    },
    {
      "cell_type": "code",
      "metadata": {
        "colab": {
          "base_uri": "https://localhost:8080/"
        },
        "id": "JIs6wNax6QAZ",
        "outputId": "7704a171-138b-4939-9278-2eee035b6537"
      },
      "source": [
        "#O, por ejemplo, si quiero extraer las menciones '@xxxx' del texto:\n",
        "df['names'].str.replace('@[^\\s]+','')"
      ],
      "execution_count": null,
      "outputs": [
        {
          "output_type": "execute_result",
          "data": {
            "text/plain": [
              "0         Sara Moreno 34\n",
              "1          jUAn GOMez 23\n",
              "2     CArlos mArtinez 89\n",
              "3    Alfredo VelaZques 3\n",
              "4           luis Mora 56\n",
              "5             #platzi 10\n",
              "6                   <NA>\n",
              "Name: names, dtype: object"
            ]
          },
          "metadata": {
            "tags": []
          },
          "execution_count": 27
        }
      ]
    },
    {
      "cell_type": "code",
      "metadata": {
        "id": "Fj2PzukG6vtT"
      },
      "source": [
        ""
      ],
      "execution_count": null,
      "outputs": []
    }
  ]
}